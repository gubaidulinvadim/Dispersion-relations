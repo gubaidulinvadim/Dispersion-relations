{
 "cells": [
  {
   "cell_type": "markdown",
   "metadata": {},
   "source": [
    "From S.Berg and F.Ruggiero:\n",
    "$$\\iiint \\dfrac{J_z^{|m|}\\Psi_0(\\vec{J})}{Q-\\Delta Q(J_z)-mQ_s}d^3\\vec{J}$$,\n",
    "where $m$ is the mode number, $Q_s$ is the synchrotron tune, $Q$ is the bare tune, $\\Delta Q(J_z)$ is the incoherent tune spread."
   ]
  },
  {
   "cell_type": "markdown",
   "metadata": {},
   "source": [
    "For the RFQ the tune spread comes from the following kick:\n",
    "$$ \\Delta \\vec{p}_i^{\\perp} = pk_2(y_i\\hat{e}_y-x_i\\hat{e}_x)\\cos(\\omega t_i + \\phi_0) $$,\n",
    "$$ \\Delta p_i^{\\parallel} = -\\frac{\\omega}{2\\beta c} pk_2(x^2-y^2)'sin(\\omega t_i + \\phi_0)$$,\n",
    "where $t_i = z_i/(\\beta c)$"
   ]
  },
  {
   "cell_type": "code",
   "execution_count": null,
   "metadata": {},
   "outputs": [],
   "source": []
  }
 ],
 "metadata": {
  "kernelspec": {
   "display_name": "Python 3",
   "language": "python",
   "name": "python3"
  },
  "language_info": {
   "codemirror_mode": {
    "name": "ipython",
    "version": 3
   },
   "file_extension": ".py",
   "mimetype": "text/x-python",
   "name": "python",
   "nbconvert_exporter": "python",
   "pygments_lexer": "ipython3",
   "version": "3.7.4"
  }
 },
 "nbformat": 4,
 "nbformat_minor": 2
}
