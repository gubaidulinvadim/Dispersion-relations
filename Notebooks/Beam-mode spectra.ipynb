{
 "cells": [
  {
   "cell_type": "code",
   "execution_count": 1,
   "metadata": {},
   "outputs": [
    {
     "name": "stdout",
     "output_type": "stream",
     "text": [
      "121.39087751779284\n"
     ]
    }
   ],
   "source": [
    "import os\n",
    "import numpy as np\n",
    "from matplotlib import pyplot as plt\n",
    "import seaborn as sbs\n",
    "from scipy.constants import pi\n",
    "os.sys.path.append('/home/vgubaidulin/PhD/Code/Numerical/Stability_diagrams/')\n",
    "sbs.set(rc={'figure.figsize': (8.3, 5.2),\n",
    "            'text.usetex': True,\n",
    "            'font.family': 'serif',\n",
    "            'font.size': 20,\n",
    "            'axes.linewidth': 2,\n",
    "            'lines.linewidth': 3,\n",
    "            'legend.fontsize': 16,\n",
    "            'legend.numpoints': 1, },\n",
    "        style='ticks',\n",
    "        palette='colorblind',\n",
    "        context='talk')\n",
    "from Schenk import *"
   ]
  },
  {
   "cell_type": "code",
   "execution_count": null,
   "metadata": {},
   "outputs": [],
   "source": [
    "sbs.set_palette('Blues')\n",
    "dQmax = 1e-3\n",
    "phi = np.linspace(0, 2*pi, 1000)\n",
    "fig, ax = plt.subplots(1, 1)\n",
    "ax.plot(phi, B(B_integrand, Jz=0, phi=phi) /\n",
    "        dQmax, label='$J_z/\\epsilon_z=0$')\n",
    "ax.plot(phi, B(B_integrand, Jz=1, phi=phi) /\n",
    "        dQmax,  label='$J_z /\\epsilon_z=1$')\n",
    "ax.plot(phi, B(B_integrand, Jz=2, phi=phi) /\n",
    "        dQmax,  label='$J_z /\\epsilon_z=2$')\n",
    "ax.plot(phi, B(B_integrand, Jz=3, phi=phi) /\n",
    "        dQmax,  label='$J_z /\\epsilon_z=3$')\n",
    "\n",
    "sbs.set_palette('flare')\n",
    "ax.plot(phi, B(B_integrand_RFQ, Jz=0, phi=phi) /\n",
    "        dQmax, label='$J_z/\\epsilon_z=0$')\n",
    "ax.plot(phi, B(B_integrand_RFQ, Jz=1, phi=phi) /\n",
    "        dQmax,  label='$J_z /\\epsilon_z=1$')\n",
    "ax.plot(phi, B(B_integrand_RFQ, Jz=2, phi=phi) /\n",
    "        dQmax,  label='$J_z /\\epsilon_z=2$')\n",
    "ax.plot(phi, B(B_integrand_RFQ, Jz=3, phi=phi) /\n",
    "        dQmax,  label='$J_z /\\epsilon_z=3$')\n",
    "ax.set_xlabel('$\\phi_z$')\n",
    "ax.set_ylabel(\n",
    "    '$B(J_z, \\phi)$ [$\\\\frac{\\Delta Q_\\mathrm{max}}{Q_\\mathrm{s}}$]')\n",
    "ax.spines['top'].set_visible(False)\n",
    "ax.spines['right'].set_visible(False)\n",
    "ax.set_xlim(0, 2*pi)\n",
    "ticks = np.linspace(0, 2*pi, 5)\n",
    "ax.set_xticks(ticks)\n",
    "ax.minorticks_on()\n",
    "ax.set_xticklabels(\n",
    "    ['$0$', '$\\\\frac{\\pi}{2}$', '$\\pi$', '$\\\\frac{3\\pi}{2}$', '$2\\pi$'],)\n",
    "ax.xaxis.grid()\n",
    "plt.figlegend(frameon=False)\n",
    "plt.savefig('/home/vgubaidulin/PhD/Code/Numerical/Stability_diagrams/Results/'+'B.pdf', bbox_inches='tight')\n",
    "plt.show()"
   ]
  },
  {
   "cell_type": "code",
   "execution_count": null,
   "metadata": {},
   "outputs": [],
   "source": []
  }
 ],
 "metadata": {
  "kernelspec": {
   "display_name": "Python 3",
   "language": "python",
   "name": "python3"
  },
  "language_info": {
   "codemirror_mode": {
    "name": "ipython",
    "version": 3
   },
   "file_extension": ".py",
   "mimetype": "text/x-python",
   "name": "python",
   "nbconvert_exporter": "python",
   "pygments_lexer": "ipython3",
   "version": "3.7.4"
  }
 },
 "nbformat": 4,
 "nbformat_minor": 2
}
