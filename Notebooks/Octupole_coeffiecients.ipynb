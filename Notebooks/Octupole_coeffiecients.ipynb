{
 "cells": [
  {
   "cell_type": "code",
   "execution_count": 14,
   "metadata": {},
   "outputs": [],
   "source": [
    "import numpy as np\n",
    "from matplotlib import pyplot as plt\n",
    "import seaborn as sbs\n",
    "import pandas as pd"
   ]
  },
  {
   "cell_type": "markdown",
   "metadata": {},
   "source": [
    "# Scaling formulae for LHC octupoles"
   ]
  },
  {
   "cell_type": "markdown",
   "metadata": {},
   "source": [
    "\n",
    " Parameter | LHC | FCC-hh |\n",
    " --- | --- | --- |\n",
    "beam energy, $E_0$ [TeV] | 0.45/7 | 3.3/50 |\n",
    "circumference, $C$ [km] | 27 | 100 |\n",
    "betatron tune (inj), $Q_x/Q_y$ |  59.28/63.31 | 111.28/109.31 |\n",
    "betatron tune (top), $Q_x/Q_y$ |  59.31/63.32 | 111.31/109.32 |\n",
    "synchrotron tune (top), $Q_s$ | $2.2\\times10^{-3}$ | $1.2\\times10^{-3}$ |\n",
    "bunch intensity, $N_b$ [ppb]  | $1.15\\times10^{11}$ |  $10^{11}$ |\n",
    "4$\\sigma$ rms bunch length (top), $\\tau_b$ [ns] | 1.08 | 1.07 |\n",
    "bunch spacing [ns] | 25 | 25 |\n",
    "norm. emittance, $\\varepsilon_{n}$ [$ \\mu m$]  | 2.5  |  2.2 |\n",
    "transition gamma, $\\gamma_{t}$ | 55.7 |  99.33 |\n",
    "averaged $\\beta$-function, $\\beta^\\text{avg}$ [m] | 72 |  141 |\n",
    "energy spread (inj), $\\Delta E / E_0$ $\\times 10^{-3}$ | $0.8$ |   $0.29$ |\n",
    "energy spread (top), $\\Delta E / E_0$ $\\times 10^{-3}$ | $0.26$ |   $0.12$ |\n"
   ]
  },
  {
   "cell_type": "markdown",
   "metadata": {},
   "source": [
    "|Machine |$L_m$ \\[m\\]| $\\beta^F_x$ \\[m\\]| $\\beta^F_y~$ \\[m\\]| $\\beta^D_x$ \\[m\\]| $\\beta^D_y$ \\[m\\]| $N_{oct}$ |\n",
    "| --- | --- | --- | --- | --- | --- | --- | \n",
    "|LHC| 0.32 | 175.5 | 36.6 | 30.1 | 178.8 | 2x84 |\n",
    "|FCC| 0.32 | 343.7 | 71.7 | 60.9 | 350.2 | 2x2100 |"
   ]
  },
  {
   "cell_type": "markdown",
   "metadata": {},
   "source": [
    "Let's define octupole coefficients such that the resulting tune spread will be: \n",
    "$$\\Delta Q_x = a_{xx}J_x - a_{xy}J_y$$\n",
    "$$\\Delta Q_y = -a_{yx}J_x + a_{yy}J_y$$"
   ]
  },
  {
   "cell_type": "markdown",
   "metadata": {},
   "source": [
    "Octupole coefficients are defined as follows: \n",
    "$$a_{xx, yy} = \\dfrac{3}{8\\pi}\\sum \\beta_{x,y}^2\\dfrac{O_3L_m}{B\\rho_B}$$,\n",
    "$$a_{xy, yx} = \\dfrac{3}{8\\pi}\\sum 2\\beta_{x}\\beta_y\\dfrac{O_3L_m}{B\\rho_B}$$.\n",
    "Where $O_3$ is octupole strength, $B\\rho_B$ is magnetic rigidity, $L_m$ is length of octupoles"
   ]
  },
  {
   "cell_type": "markdown",
   "metadata": {},
   "source": [
    "For the LHC octupoles the scaling formulae are: \n",
    "$$a_{xx}\\epsilon_n = 3.28\\dfrac{I_{oct}[A]\\epsilon_n[m]}{E^2[TeV]}$$\n",
    "$$a_{yy}\\epsilon_n = 3.43\\dfrac{I_{oct}[A]\\epsilon_n[m]}{E^2[TeV]}$$\n",
    "$$a_{xy}\\epsilon_n = 2.33\\dfrac{I_{oct}[A]\\epsilon_n[m]}{E^2[TeV]}$$\n",
    "$$a_{yx}\\epsilon_n = 2.33\\dfrac{I_{oct}[A]\\epsilon_n[m]}{E^2[TeV]}$$"
   ]
  },
  {
   "cell_type": "markdown",
   "metadata": {},
   "source": [
    "## LHC to FCC scaling"
   ]
  },
  {
   "cell_type": "code",
   "execution_count": 15,
   "metadata": {},
   "outputs": [
    {
     "name": "stdout",
     "output_type": "stream",
     "text": [
      "[[9.20e-05 6.54e-05]\n",
      " [6.54e-05 9.63e-05]]\n",
      "[[1.59e-06 1.13e-06]\n",
      " [1.13e-06 1.66e-06]]\n",
      "-0.000105 7.4e-05 7.4e-05 -0.000105\n",
      "[[3.97e-05 2.82e-05]\n",
      " [2.82e-05 4.15e-05]]\n"
     ]
    }
   ],
   "source": [
    "def coefficients_from_scaling(I_oct, eps_n, Energy):\n",
    "    coeff = I_oct*eps_n/Energy**2\n",
    "    a_xx = 3.28*coeff\n",
    "    a_yy = 3.43*coeff\n",
    "    a_xy = 2.33*coeff\n",
    "    a_yx = 2.33*coeff\n",
    "    return np.array([[a_xx, a_xy],[a_yx, a_yy]])\n",
    "np.set_printoptions(precision=2)\n",
    "LHC_octupoles_coefficients = coefficients_from_scaling(550, 2.5e-6, 7)\n",
    "FCC_octupoles_coefficients = coefficients_from_scaling(550, 2.2e-6, 50)\n",
    "print(LHC_octupoles_coefficients)\n",
    "print(FCC_octupoles_coefficients)\n",
    "print(-1.05e-4, 7.4e-5, 7.4e-5, -1.05e-4) # was in Oliver's code before\n",
    "print(25*FCC_octupoles_coefficients)"
   ]
  },
  {
   "cell_type": "markdown",
   "metadata": {},
   "source": [
    "|Coefficient | LHC octupoles | FCC octupoles |\n",
    "|---|---|---|\n",
    "| $a_{xx}\\epsilon_n$ | $9.20 \\cdot 10^{-5}$ | $1.59 \\cdot 10^{-6}$ |\n",
    "| $a_{xy}\\epsilon_n$ | $6.54 \\cdot 10^{-5}$ | $1.13 \\cdot 10^{-6}$ |\n",
    "| $a_{yx}\\epsilon_n$ | $6.54 \\cdot 10^{-5}$ | $1.66 \\cdot 10^{-6}$ |\n",
    "| $a_{yy}\\epsilon_n$ | $9.63 \\cdot 10^{-5}$ | $1.13 \\cdot 10^{-6}$ |"
   ]
  },
  {
   "cell_type": "markdown",
   "metadata": {},
   "source": [
    "## PyHEADTAIL octupoles' coefficients"
   ]
  },
  {
   "cell_type": "markdown",
   "metadata": {},
   "source": [
    "$$J_x = \\frac{1}{2}\\left( \\frac{1 + \\alpha_x^2}{\\beta_x} x^2 +\n",
    "2\\alpha_x x x' +\n",
    "\\beta_x x'^2\\right)$$\n",
    "$$J_y = \\frac{1}{2} \\left(\\frac{1 + \\alpha_y^2}{\\beta_y} y^2\n",
    "            + 2\\alpha_y  y y'\n",
    "            + \\beta_y y'^2\\right)$$\n",
    "$$dQ_x = \\frac{1}{p_0}(a_{xx}J_x + a_{xy}J_y)$$\n",
    "$$dQ_y = \\frac{1}{p_0}(a_{yy}J_y + a_{yx}J_x)$$\n"
   ]
  },
  {
   "cell_type": "markdown",
   "metadata": {},
   "source": [
    "For this definition octupole coefficients will be given by: \n",
    "$$ a_{xx} = \\frac{3e}{8\\pi}(N^F_{oct}\\beta_x^F\\beta_x^FO_3L_m+N^D_{oct}\\beta_x^D\\beta_x^DO_3L_m) $$\n",
    "$$ a_{yy} = \\frac{3e}{8\\pi}(N^F_{oct}\\beta_y^F\\beta_y^FO_3L_m+N^D_{oct}\\beta_y^D\\beta_y^DO_3L_m) $$\n",
    "$$ a_{xy} = a_{yx} = \\frac{3e}{4\\pi}(N^F_{oct}\\beta_y^F\\beta_x^FO_3L_m+N^D_{oct}\\beta_y^D\\beta_x^DO_3L_m) $$"
   ]
  },
  {
   "cell_type": "markdown",
   "metadata": {},
   "source": [
    "Octupoles are implemented as a detuner in PyHEADTAIL, I noticed no significant difference between using a single octupole kick vs this detuner implementation."
   ]
  }
 ],
 "metadata": {
  "kernelspec": {
   "display_name": "Python 3",
   "language": "python",
   "name": "python3"
  },
  "language_info": {
   "codemirror_mode": {
    "name": "ipython",
    "version": 3
   },
   "file_extension": ".py",
   "mimetype": "text/x-python",
   "name": "python",
   "nbconvert_exporter": "python",
   "pygments_lexer": "ipython3",
   "version": "3.7.4"
  }
 },
 "nbformat": 4,
 "nbformat_minor": 2
}
