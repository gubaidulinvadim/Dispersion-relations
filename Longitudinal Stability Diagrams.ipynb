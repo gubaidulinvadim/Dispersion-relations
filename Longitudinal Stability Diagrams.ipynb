{
 "cells": [
  {
   "cell_type": "markdown",
   "metadata": {},
   "source": [
    "# Dispersion relation theory for detuning with longitudinal amplitude"
   ]
  },
  {
   "cell_type": "markdown",
   "metadata": {},
   "source": [
    "From S.Berg and F.Ruggiero:\n",
    "$$\\iiint \\dfrac{J_z^{|m|}\\Psi_0(\\vec{J})}{Q-\\Delta Q(J_z)-mQ_s}d^3\\vec{J},$$\n",
    "where $m$ is the mode number, $Q_s$ is the synchrotron tune, $Q$ is the bare tune, $\\Delta Q(J_z)$ is the incoherent tune spread."
   ]
  },
  {
   "cell_type": "markdown",
   "metadata": {},
   "source": [
    "## RFQ"
   ]
  },
  {
   "cell_type": "markdown",
   "metadata": {},
   "source": [
    "For the RFQ the tune spread comes from the following kick:\n",
    "\\begin{align*}\n",
    "\\Delta \\vec{p}_i^{\\perp} &= pk_2(y_i\\hat{e}_y-x_i\\hat{e}_x)\\cos(\\omega t_i + \\phi_0),\\\\\n",
    "\\Delta p_i^{\\parallel} &= -\\dfrac{\\omega}{2\\beta c} pk_2(x_i^2-y_i^2)sin(\\omega t_i + \\phi_0),\n",
    "\\end{align*}\n",
    "where $t_i = z_i/(\\beta c)$, $k_2$ refers to the amplitude of the normalized integrated quadrupolar gradient, i.e it accounts fro the transit time factor:\n",
    "$$ k_2 = \\dfrac{q}{\\pi r pc} \\int_0^{2\\pi} \\left\\Vert\\int_0^{2\\pi}(E_x-cB_y)e^{i\\omega z/c} dz \\right\\Vert\\cos(\\phi) d\\phi,$$\n",
    "where $L$ is the length of the quadrupole cavity, $[r, \\phi, z]$ -- cylindrical coordinates.\n",
    "Later we are using the normalised coefficient:\n",
    "$$b^{(2)} = k_2B_0\\rho$$"
   ]
  },
  {
   "cell_type": "markdown",
   "metadata": {},
   "source": [
    "This lead to a detuning dependent on the longitudinal coordinate:\n",
    "    $$\\Delta Q^{x, y}_{i} = \\pm\\beta^{x, y}\\dfrac{b^{(2)}}{4\\pi B_0\\rho}\\cos\\left[\\frac{\\omega z_i}{\\beta c}+\\phi_0\\right]$$"
   ]
  },
  {
   "cell_type": "markdown",
   "metadata": {},
   "source": [
    "With M.Schenk limit $\\omega\\sigma_z/\\beta c \\ll 1$ and setting $\\phi_0=0$ we can use a Taylor expansion:\n",
    "$$\\Delta Q^{x, y}_{i} = \\pm\\beta^{x, y}\\dfrac{b^{(2)}}{4\\pi B_0\\rho}\\left[ 1-\\frac{1}{2}\\left(\\frac{\\omega z_i}{\\beta c}\\right)^2+O(z_i^4) \\right]$$"
   ]
  },
  {
   "cell_type": "markdown",
   "metadata": {},
   "source": [
    "Let's introduce \n",
    "$$\\beta_z = \\frac{\\eta R}{Q_s}$$\n",
    "and the longitudinal action \n",
    "$$ J^i_z = (z_i^2+\\beta_z^2\\delta_i^2)/2\\beta_z$$\n",
    "Then \n",
    "$$\\Delta Q^{x, y}_{i} = \\pm\\beta^{x, y}\\dfrac{b^{(2)}}{4\\pi B_0\\rho}\\left[ 1-\\frac{1}{2}\\left(\\frac{\\omega}{\\beta c}\\right)^2J^i_z\\beta_z \\right]$$"
   ]
  },
  {
   "cell_type": "markdown",
   "metadata": {},
   "source": [
    "One can also obtain the precise equation by substituting $z_i = \\sqrt{2\\beta_z J_z}\\sin(\\phi_z)$, where $\\psi_z$ is the synchrotron phase. and then averaging over several synchrotron periods to obtain a long-term detuning:\n",
    "    $$\\Delta Q^{x, y}_{i} = \\pm\\beta^{x, y}\\dfrac{b^{(2)}}{4\\pi B_0\\rho}\\int_0^{2\\pi}\\cos\\left[\\frac{\\omega \\sqrt{2\\beta_z J_z}\\sin{\\psi_z}}{\\beta c}\\right]d\\left(\\frac{\\psi_z}{2\\pi}\\right)$$"
   ]
  },
  {
   "cell_type": "markdown",
   "metadata": {},
   "source": [
    " $$\\Delta Q^{x, y}_{i} = \\pm\\beta^{x, y}\\dfrac{b^{(2)}}{4\\pi B_0\\rho}J_0\\left(\\frac{\\omega}{\\beta c}\\sqrt{2J_z\\beta_z}\\right)=\\pm\\beta^{x, y}\\dfrac{b^{(2)}}{4\\pi B_0\\rho}J_0\\left(\\frac{\\omega}{\\beta c}\\tilde{\\sigma_z}\\right)$$"
   ]
  },
  {
   "cell_type": "markdown",
   "metadata": {},
   "source": [
    "One can expand the bessel function for small amplitude equivalent to M.Schenk assumtion above:\n",
    "$$J_z(x) =1 - x^2/4 + x^4/64 - x^6/2304 + O(x^7)$$\n",
    "$$\\Delta Q_i^{x, y} = \\pm\\beta^{x,y}\\dfrac{b^{(2)}}{4\\pi B_0\\rho}\\left(1-\\left(\\frac{\\omega}{\\beta c}\\right)^2 J_z\\beta_z/2+O(4)\\right)$$"
   ]
  },
  {
   "cell_type": "markdown",
   "metadata": {},
   "source": [
    "Rewritten with $v_2$ parameter from PyHEADTAIL implementation:\n",
    "$$v_2 = (b_2 \\omega)/6.6712$$\n",
    "$$\\Delta Q_i^{x, y} = \\pm\\dfrac{\\beta^{x,y}}{2\\pi}\\dfrac{v_2}{\\omega p_0 \\rm{[GeV/c]}}J_0\\left(\\dfrac{\\omega}{\\beta c}\\sqrt{2J_z\\beta_z}\\right)$$"
   ]
  },
  {
   "cell_type": "markdown",
   "metadata": {},
   "source": [
    "**Note:** I should normalise $J_z$ to $\\sigma_z$ or longitudinal emittace $\\epsilon_z$ for convinient use and analogy with the transverse case"
   ]
  },
  {
   "cell_type": "markdown",
   "metadata": {},
   "source": [
    "For the M.Schenk RFQ parameters:\n",
    "\n",
    "|$\\omega$ [MHz]| $\\beta_x$ [m]| $\\beta_y$ [m]| $B_0\\rho$|\n",
    "|---|---|---|---|\n",
    "| 800|200|200|2.1e4|"
   ]
  },
  {
   "cell_type": "markdown",
   "metadata": {},
   "source": [
    "## Pulsed electron lens (transversely homogeneous)"
   ]
  },
  {
   "cell_type": "markdown",
   "metadata": {},
   "source": [
    "We will restrict this derivation to the round beam case: \n",
    "We assume transversely homogeneous distribution and longitudinally a gaussian one:\n",
    "$$\\psi(z) = N \\exp\\left(-\\frac{z_i^2}{2\\sigma_z^2}\\right)$$"
   ]
  },
  {
   "cell_type": "markdown",
   "metadata": {},
   "source": [
    "$E_x/Q = \\dfrac{x}{4\\pi\\epsilon_0 \\sigma_x(\\sigma_x+\\sigma_y))}$ $E_y/Q = \\dfrac{y}{4\\pi\\epsilon_0 \\sigma_y(\\sigma_x+\\sigma_y))}$ "
   ]
  },
  {
   "cell_type": "markdown",
   "metadata": {},
   "source": [
    "$$\\Delta p_x = \\dfrac{Qx}{4\\pi\\epsilon_0 \\sigma_x(\\sigma_x+\\sigma_y)}$$"
   ]
  },
  {
   "cell_type": "markdown",
   "metadata": {},
   "source": [
    "$$\\Delta Q_i^{x, y} = \\frac{\\beta^{x, y}}{4\\pi}\\dfrac{\\lambda(z)}{4\\pi\\epsilon_0\\sigma_{x, y}(\\sigma_x+\\sigma_y)}$$\n",
    "$$\\Delta Q_i^{x, y} = \\Delta Q^{x, y}_{max}\\exp\\left( - \\frac{z_i^2}{2\\sigma_z^2} \\right)$$\n",
    "Using the same approach of averaging over synchrotron period we obtain:\n",
    "$$\\Delta Q_i^{x, y} = \\Delta Q^{x, y}_{max}\\int_0^{2\\pi}\\exp\\left( - \\frac{2J_z^i\\beta_z\\sin^2(\\phi_z)}{2\\sigma_z^2} \\right)d\\left(\\frac{\\phi_z}{2\\pi}\\right)$$"
   ]
  },
  {
   "cell_type": "markdown",
   "metadata": {},
   "source": [
    "$$\\Delta Q_i^{x, y} = \\Delta Q^{x, y}_{max}\\exp\\left(\\frac{-J_z\\beta_z}{2\\sigma_z^2}\\right)I_0\\left(\\frac{J_z\\beta_z}{2\\sigma_z^2}\\right)$$"
   ]
  },
  {
   "cell_type": "markdown",
   "metadata": {},
   "source": [
    "Using $2J_z\\beta_z = \\tilde{\\sigma_z}^2$\n",
    "$$\\Delta Q_i^{x, y} = \\Delta Q^{x, y}_{max}\\exp\\left(-\\left(\\frac{\\tilde{\\sigma_z}}{2\\sigma_z}\\right)^2\\right)I_0\\left(\\left(\\frac{\\tilde{\\sigma_z}}{2\\sigma_z}\\right)^2\\right)$$"
   ]
  },
  {
   "cell_type": "markdown",
   "metadata": {},
   "source": [
    "Taylor expansion for pulsed lens: $\\exp(-x)I_0(x) = 1 - x + (3 x^2)/4 - (5 x^3)/12 + (35 x^4)/192 - (21 x^5)/320 + O(x^6)$"
   ]
  },
  {
   "cell_type": "markdown",
   "metadata": {},
   "source": [
    "In first order this is the same dependency as for RFQ but the significance of higher order terms is determined by $\\sigma_z$ of electron lens instead of characteristic RFQ parameter $\\omega/\\beta c$"
   ]
  },
  {
   "cell_type": "markdown",
   "metadata": {},
   "source": [
    "## SIS18 RFQ"
   ]
  },
  {
   "cell_type": "markdown",
   "metadata": {},
   "source": [
    "RFQ parameters in the LHC were: \n",
    "$$\\omega = 800 [\\rm{MHz}]$$\n",
    "$$\\sigma_z = 0.06 [\\rm m]$$\n",
    "$$v_2 = 2\\cdot 10^9 [\\rm V/m^2]$$\n",
    "$$E = 6.5 [TeV]$$\n",
    "For SIS18 bunch length and energy change to the values of: \n",
    "$$\\sigma_z = 4 [\\rm m]$$\n",
    "$$E = 8 [\\rm GeV]$$\n",
    "So RFQ frequency and strength must scale accordingly:\n",
    "$$\\omega = \\omega'\\sigma_z'/\\sigma_z = 800*0.08/4 = 12 [MHz]$$\n",
    "$$v_2 = \\beta_x'v_2'/(\\omega'E')\\cdot \\omega E/\\beta_x = 3.7\\cdot 10^{4}$$"
   ]
  },
  {
   "cell_type": "code",
   "execution_count": 2,
   "metadata": {},
   "outputs": [
    {
     "name": "stdout",
     "output_type": "stream",
     "text": [
      "Required field gradient: 1.1e7\n",
      "Max tune shift: : 0.000\n"
     ]
    }
   ],
   "source": [
    "import numpy as np\n",
    "from scipy.constants import c, e, m_p\n",
    "from scipy.special import j0\n",
    "from IPython.display import display, Markdown, Latex\n",
    "from matplotlib import pyplot as plt\n",
    "omega = 5.6e6#2*np.pi*np.linspace(20e3, 200e3)\n",
    "sigma_z = 4\n",
    "pc = 4.5\n",
    "Q_x = 4.2\n",
    "beta_x = 261.72/2/np.pi/Q_x\n",
    "dQ = 1e-3\n",
    "v2 = omega*pc/(-j0(omega*sigma_z/c)+j0(0))*(2*np.pi)/beta_x*dQ\n",
    "# display(Markdown('For the range of frequencies between $20$kHz and $200$kHz, \\n the following range of field gradient $v_2$ is require to create a spead $Q(J_z=0)-Q(J_z=\\sigma_z^2/(2 \\{beta}_z))=10^{-4}$:'))\n",
    "# dQ = beta_x/(2*np.pi)*(v2/(omega*pc))*(j0(0)-j0(omega(sigma_z/c)))\n",
    "print('Required field gradient: {0:.1f}e7'.format(v2/1e7))\n",
    "print('Max tune shift: : {0:.3f}'.format(v2/(omega*c)*beta_x/(2*np.pi)*1e3))"
   ]
  },
  {
   "cell_type": "markdown",
   "metadata": {},
   "source": [
    "For the range of frequencies between $20$kHz and $200$kHz, \\n the following range of field gradient $v_2$ is require to create a spead $Q(J_z=0)-Q(J_z=\\sigma_z^2/(2 \\beta_z))=10^{-4}$:"
   ]
  },
  {
   "cell_type": "markdown",
   "metadata": {},
   "source": [
    "## RFQ tune spread dependence on $\\beta\\gamma$\n",
    "$$\\Delta Q(J_z) = \\Delta Q(J_z=0) - \\Delta Q(J_z=\\sigma_z^2/(2\\beta_z)) = \\pm\\frac{\\beta_{x,y}}{2\\pi}\\frac{v_2}{\\omega pc[\\rm{GeV}]}J_0\\left(\\frac{\\omega\\sqrt{2\\beta_z J_z}}{\\beta c}\\right)$$"
   ]
  },
  {
   "cell_type": "code",
   "execution_count": 3,
   "metadata": {},
   "outputs": [
    {
     "data": {
      "image/png": "[encoded data removed]",
      "text/plain": [
       "<Figure size 432x288 with 1 Axes>"
      ]
     },
     "metadata": {
      "needs_background": "light"
     },
     "output_type": "display_data"
    }
   ],
   "source": [
    "beta_x = 200\n",
    "v2 = 2e9\n",
    "omega = 2*np.pi*800e6\n",
    "sigma_z = 0.06\n",
    "def beta(gamma):\n",
    "#     gamma = 1 + p0 * e / (m_p * c**2)\n",
    "    return np.sqrt(1 - gamma**-2)\n",
    "def dQ(Ekin):\n",
    "    return beta_x/2/np.pi*v2/(omega*Ekin/1e9)*(1-j0(omega*sigma_z/beta(gamma)/c))\n",
    "Ekin = np.linspace(6.5e12, 50e12)\n",
    "gamma = 1+Ekin*e/(m_p*c**2)\n",
    "# fig, (ax1, ax2) = plt.subplots(1, 2)\n",
    "plt.plot(Ekin/1e12, 0.44e4*dQ(Ekin), label = 'RFQ')\n",
    "plt.xlabel('$E_\\mathrm{kin}$ [TeV]')\n",
    "plt.ylabel('$10^{4}\\Delta Q_\\mathrm{rms}$')\n",
    "# ax2.plot(beta(p0), dQ(p0))\n",
    "plt.show()"
   ]
  },
  {
   "cell_type": "code",
   "execution_count": 4,
   "metadata": {},
   "outputs": [],
   "source": [
    "import numpy as np\n",
    "from scipy.integrate import quad\n",
    "from scipy.constants import c\n",
    "from scipy.special import i0, i0e\n",
    "from matplotlib import pyplot as plt\n",
    "import seaborn as sbs\n",
    "from mpl_toolkits.mplot3d.axes3d import Axes3D\n",
    "sbs.set(rc={'figure.figsize':(8.3,5.2),\n",
    "#             'text.usetex':True,\n",
    "           'font.family':'serif',\n",
    "           'font.size':20,\n",
    "           'axes.linewidth':2,\n",
    "           'lines.linewidth':3,\n",
    "           'legend.fontsize':16,\n",
    "           'legend.numpoints':1,},\n",
    "        style='ticks',\n",
    "        palette='colorblind',\n",
    "        context='talk')"
   ]
  },
  {
   "cell_type": "code",
   "execution_count": 5,
   "metadata": {},
   "outputs": [
    {
     "name": "stdout",
     "output_type": "stream",
     "text": [
      "1.0\n"
     ]
    },
    {
     "data": {
      "image/png": "[encoded data removed]",
      "text/plain": [
       "<Figure size 597.6x374.4 with 1 Axes>"
      ]
     },
     "metadata": {},
     "output_type": "display_data"
    },
    {
     "name": "stdout",
     "output_type": "stream",
     "text": [
      "CPU times: user 6min 25s, sys: 0 ns, total: 6min 25s\n",
      "Wall time: 6min 25s\n"
     ]
    }
   ],
   "source": [
    "%%time\n",
    "r = 1\n",
    "def dQpelens(phi, Jz):\n",
    "#     r=1\n",
    "    return np.exp(-0.5*Jz/r**2)*np.exp((-0.5*Jz/r**2)*np.cos(2*phi))\n",
    "def b(phi, Jz):\n",
    "#     r=1\n",
    "    return dQpelens(phi, Jz)-1/(2*np.pi)*quad(dQpelens, 0, 2*np.pi, args=(Jz,))[0]#i0e(-0.5*Jz/r**2)\n",
    "@np.vectorize\n",
    "def B(Jz, phi):\n",
    "    return quad(b, 0, phi, args=(Jz,))[0]\n",
    "phi = np.linspace(0, np.pi, 100)\n",
    "# Jz = 1\n",
    "# phi = 0.123\n",
    "Jz = np.linspace(0, 10, 100)\n",
    "# plt.plot(Jz, B(Jz, phi))\n",
    "J, PHI = np.meshgrid(Jz, phi)\n",
    "fig=plt.figure()\n",
    "ax=fig.add_subplot(1,2,1,projection='3d')\n",
    "p=ax.plot_wireframe(J, PHI/np.pi, B(J, PHI))\n",
    "# plt.plot(, 0.17*np.sin(-2*phi))\n",
    "print(i0e(0))\n",
    "plt.show()"
   ]
  },
  {
   "cell_type": "code",
   "execution_count": 1,
   "metadata": {},
   "outputs": [
    {
     "ename": "NameError",
     "evalue": "name 'np' is not defined",
     "output_type": "error",
     "traceback": [
      "\u001b[0;31m---------------------------------------------------------------------------\u001b[0m",
      "\u001b[0;31mNameError\u001b[0m                                 Traceback (most recent call last)",
      "\u001b[0;32m<ipython-input-1-1bd4b4fa8e99>\u001b[0m in \u001b[0;36m<module>\u001b[0;34m\u001b[0m\n\u001b[1;32m      2\u001b[0m \u001b[0momega_beta\u001b[0m \u001b[0;34m=\u001b[0m \u001b[0;36m4.2\u001b[0m\u001b[0;34m\u001b[0m\u001b[0;34m\u001b[0m\u001b[0m\n\u001b[1;32m      3\u001b[0m \u001b[0momega_s\u001b[0m \u001b[0;34m=\u001b[0m \u001b[0;36m0.001\u001b[0m\u001b[0;34m\u001b[0m\u001b[0;34m\u001b[0m\u001b[0m\n\u001b[0;32m----> 4\u001b[0;31m \u001b[0;34m@\u001b[0m\u001b[0mnp\u001b[0m\u001b[0;34m.\u001b[0m\u001b[0mvectorize\u001b[0m\u001b[0;34m\u001b[0m\u001b[0;34m\u001b[0m\u001b[0m\n\u001b[0m\u001b[1;32m      5\u001b[0m \u001b[0;32mdef\u001b[0m \u001b[0mfunc\u001b[0m\u001b[0;34m(\u001b[0m\u001b[0mphi\u001b[0m\u001b[0;34m,\u001b[0m \u001b[0mJz\u001b[0m\u001b[0;34m,\u001b[0m \u001b[0ml\u001b[0m\u001b[0;34m=\u001b[0m\u001b[0;36m0\u001b[0m\u001b[0;34m,\u001b[0m \u001b[0mp\u001b[0m\u001b[0;34m=\u001b[0m\u001b[0;36m0\u001b[0m\u001b[0;34m)\u001b[0m\u001b[0;34m:\u001b[0m\u001b[0;34m\u001b[0m\u001b[0;34m\u001b[0m\u001b[0m\n\u001b[1;32m      6\u001b[0m     \u001b[0momega_p\u001b[0m \u001b[0;34m=\u001b[0m \u001b[0momega0\u001b[0m\u001b[0;34m*\u001b[0m\u001b[0mp\u001b[0m\u001b[0;34m+\u001b[0m\u001b[0momega_beta\u001b[0m\u001b[0;34m+\u001b[0m\u001b[0momega_s\u001b[0m\u001b[0;34m*\u001b[0m\u001b[0ml\u001b[0m\u001b[0;34m\u001b[0m\u001b[0;34m\u001b[0m\u001b[0m\n",
      "\u001b[0;31mNameError\u001b[0m: name 'np' is not defined"
     ]
    }
   ],
   "source": [
    "omega0 = 1\n",
    "omega_beta = 4.2\n",
    "omega_s = 0.001\n",
    "@np.vectorize\n",
    "def func(phi, Jz, l=0, p=0):\n",
    "    omega_p = omega0*p+omega_beta+omega_s*l\n",
    "    return np.exp(-1j*l*phi)*np.exp(-1j*omega_p/c)*np.exp(-1j/omega_s*B(Jz, phi))\n",
    "@np.vectorize\n",
    "def func_real(phi, Jz, l=0, p=0):\n",
    "    return np.real(func(phi, Jz, l=0, p=0))\n",
    "@np.vectorize\n",
    "def func_imag(phi, Jz, l=0, p=0):\n",
    "    return np.imag(func(phi, Jz, l=0, p=0))\n",
    "@np.vectorize\n",
    "def H_real(Jz, l=0, p=0):\n",
    "    return 1/(2*np.pi)*quad(func_real, 0, 2*np.pi, args=(Jz, l, p,))[0]\n",
    "Jz = np.linspace(0, 3, 100)\n",
    "plt.figure()\n",
    "plt.plot(Jz, H_real(Jz))\n",
    "plt.show()\n"
   ]
  },
  {
   "cell_type": "code",
   "execution_count": 51,
   "metadata": {},
   "outputs": [
    {
     "name": "stdout",
     "output_type": "stream",
     "text": [
      "CPU times: user 3.15 s, sys: 2 µs, total: 3.15 s\n",
      "Wall time: 3.15 s\n"
     ]
    },
    {
     "data": {
      "text/plain": [
       "[]"
      ]
     },
     "execution_count": 51,
     "metadata": {},
     "output_type": "execute_result"
    },
    {
     "data": {
      "image/png": "[encoded data removed]",
      "text/plain": [
       "<Figure size 597.6x374.4 with 1 Axes>"
      ]
     },
     "metadata": {},
     "output_type": "display_data"
    }
   ],
   "source": [
    "%%time\n",
    "Jz = np.linspace(0, 10, 100)\n",
    "plt.plot(Jz, B(Jz, np.pi/4))\n",
    "plt.plot(Jz, B(Jz, -np.pi/4))\n",
    "plt.plot()"
   ]
  },
  {
   "cell_type": "markdown",
   "metadata": {},
   "source": [
    "Vlasov equation:\n",
    "$$\\left[\\partial_s+\n",
    "\\phi_x'\\partial_{\\phi_x}+J_x'\\partial_{J_x}+\n",
    "\\phi_y'\\partial_{\\phi_y}+J_y'\\partial_{J_y}+\n",
    "\\phi_x'\\partial_{\\phi_z}+J_z'\\partial_{J_z}\\right]\\Psi$$\n",
    "Describe the whole system as a following Hamiltonian, considering wake-field as a perturbation force and a non-linearity as a part of not perturbed Hamiltonian:\n",
    "$$H = H_0+H^\\mathrm{non-linear}+\\epsilon H^\\mathrm{wake}$$\n",
    "The distribution function $\\Psi$ will be represented as a sum:\n",
    "$$\\Psi = \\psi_0+\\epsilon\\phi_1 = \n",
    "g_0(J_z)f_x(J_x)f_y(J_y)+\n",
    "\\epsilon g_1(J_z, \\phi_z)f_{x_1}(J_x, \\phi_x)f_{y_1}(J_y, \\phi_y)$$\n",
    "Poisson bracket solution for H_0:\n",
    "$$\\epsilon\\{H_0, \\psi_1\\} = \\left(\\omega_x\\partial_{\\phi_x}+\\omega_y\\partial_{\\phi_y}-\\omega_z\\partial_{\\phi_z}\\right)\\psi_1$$\n",
    "Now let us consider pulsed electron lens non-linearity and a 2D case, ignoring $x$-plane for now:\n",
    "$$H^\\mathrm{non-linear} = AJ_y\\beta_y\\frac{1}{2}(1-\\cos{2\\phi_y})\\exp{\\left(-\\frac{J_z\\beta_z}{2\\sigma_e^2}(1-\\cos{2\\phi_z})\\right)}$$\n",
    "And its derivatives:\n",
    "$$\\Delta\\omega_y = \\frac{\\partial H^\\mathrm{non-linear}}{\\partial J_y} = A\\beta_y\\frac{1}{2}(1-\\cos{2\\phi_y})\\exp{\\left(-\\frac{J_z\\beta_z}{2\\sigma_e^2}(1-\\cos{2\\phi_z})\\right)} $$\n",
    "$$\\frac{\\partial H^\\mathrm{non-linear}}{\\partial \\phi_y} = AJ_y\\beta_y\\frac{1}{2}(1+2\\sin{2\\phi_y})\\exp{\\left(-\\frac{J_z\\beta_z}{2\\sigma_e^2}(1-\\cos{2\\phi_z})\\right)}$$"
   ]
  },
  {
   "cell_type": "code",
   "execution_count": 21,
   "metadata": {},
   "outputs": [
    {
     "name": "stdout",
     "output_type": "stream",
     "text": [
      "[-1.e-03 -9.e-04 -8.e-04 -7.e-04 -6.e-04 -5.e-04 -4.e-04 -3.e-04 -2.e-04\n",
      " -1.e-04  0.e+00  1.e-04  2.e-04  3.e-04  4.e-04  5.e-04  6.e-04  7.e-04\n",
      "  8.e-04  9.e-04  1.e-03]\n"
     ]
    }
   ],
   "source": [
    "dQr = 1e-3*np.linspace(-1, 1, 21)\n",
    "print(dQr)"
   ]
  },
  {
   "cell_type": "code",
   "execution_count": null,
   "metadata": {},
   "outputs": [],
   "source": [
    "def merge_folders(folder1, folder2):\n",
    "    for file in folder1:\n",
    "        "
   ]
  }
 ],
 "metadata": {
  "kernelspec": {
   "display_name": "Python 3",
   "language": "python",
   "name": "python3"
  },
  "language_info": {
   "codemirror_mode": {
    "name": "ipython",
    "version": 3
   },
   "file_extension": ".py",
   "mimetype": "text/x-python",
   "name": "python",
   "nbconvert_exporter": "python",
   "pygments_lexer": "ipython3",
   "version": "3.7.4"
  }
 },
 "nbformat": 4,
 "nbformat_minor": 2
}
