{
 "cells": [
  {
   "cell_type": "markdown",
   "metadata": {},
   "source": [
    "# Dispersion relation theory for detuning with longitudinal amplitude"
   ]
  },
  {
   "cell_type": "markdown",
   "metadata": {},
   "source": [
    "From S.Berg and F.Ruggiero:\n",
    "$$\\iiint \\dfrac{J_z^{|m|}\\Psi_0(\\vec{J})}{Q-\\Delta Q(J_z)-mQ_s}d^3\\vec{J},$$\n",
    "where $m$ is the mode number, $Q_s$ is the synchrotron tune, $Q$ is the bare tune, $\\Delta Q(J_z)$ is the incoherent tune spread."
   ]
  },
  {
   "cell_type": "markdown",
   "metadata": {},
   "source": [
    "## RFQ"
   ]
  },
  {
   "cell_type": "markdown",
   "metadata": {},
   "source": [
    "For the RFQ the tune spread comes from the following kick:\n",
    "\\begin{align*}\n",
    "\\Delta \\vec{p}_i^{\\perp} &= pk_2(y_i\\hat{e}_y-x_i\\hat{e}_x)\\cos(\\omega t_i + \\phi_0),\\\\\n",
    "\\Delta p_i^{\\parallel} &= -\\dfrac{\\omega}{2\\beta c} pk_2(x_i^2-y_i^2)sin(\\omega t_i + \\phi_0),\n",
    "\\end{align*}\n",
    "where $t_i = z_i/(\\beta c)$, $k_2$ refers to the amplitude of the normalized integrated quadrupolar gradient, i.e it accounts fro the transit time factor:\n",
    "$$ k_2 = \\dfrac{q}{\\pi r pc} \\int_0^{2\\pi} \\left\\Vert\\int_0^{2\\pi}(E_x-cB_y)e^{i\\omega z/c} dz \\right\\Vert\\cos(\\phi) d\\phi,$$\n",
    "where $L$ is the length of the quadrupole cavity, $[r, \\phi, z]$ -- cylindrical coordinates.\n",
    "Later we are using the normalised coefficient:\n",
    "$$b^{(2)} = k_2B_0\\rho$$"
   ]
  },
  {
   "cell_type": "markdown",
   "metadata": {},
   "source": [
    "This lead to a detuning dependent on the longitudinal coordinate:\n",
    "    $$\\Delta Q^{x, y}_{i} = \\pm\\beta^{x, y}\\dfrac{b^{(2)}}{4\\pi B_0\\rho}\\cos\\left[\\frac{\\omega z_i}{\\beta c}+\\phi_0\\right]$$"
   ]
  },
  {
   "cell_type": "markdown",
   "metadata": {},
   "source": [
    "With M.Schenk limit $\\omega\\sigma_z/\\beta c \\ll 1$ and setting $\\phi_0=0$ we can use a Taylor expansion:\n",
    "$$\\Delta Q^{x, y}_{i} = \\pm\\beta^{x, y}\\dfrac{b^{(2)}}{4\\pi B_0\\rho}\\left[ 1-\\frac{1}{2}\\left(\\frac{\\omega z_i}{\\beta c}\\right)^2+O(z_i^4) \\right]$$"
   ]
  },
  {
   "cell_type": "markdown",
   "metadata": {},
   "source": [
    "Let's introduce \n",
    "$$\\beta_z = \\frac{\\eta R}{Q_s}$$\n",
    "and the longitudinal action \n",
    "$$ J^i_z = (z_i^2+\\beta_z^2\\delta_i^2)/2\\beta_z$$\n",
    "Then \n",
    "$$\\Delta Q^{x, y}_{i} = \\pm\\beta^{x, y}\\dfrac{b^{(2)}}{4\\pi B_0\\rho}\\left[ 1-\\frac{1}{2}\\left(\\frac{\\omega}{\\beta c}\\right)^2J^i_z\\beta_z \\right]$$"
   ]
  },
  {
   "cell_type": "markdown",
   "metadata": {},
   "source": [
    "One can also obtain the precise equation by substituting $z_i = \\sqrt{2\\beta_z J_z}\\sin(\\phi_z)$, where $\\psi_z$ is the synchrotron phase. and then averaging over several synchrotron periods to obtain a long-term detuning:\n",
    "    $$\\Delta Q^{x, y}_{i} = \\pm\\beta^{x, y}\\dfrac{b^{(2)}}{4\\pi B_0\\rho}\\int_0^{2\\pi}\\cos\\left[\\frac{\\omega \\sqrt{2\\beta_z J_z}\\sin{\\psi_z}}{\\beta c}\\right]d\\left(\\frac{\\psi_z}{2\\pi}\\right)$$"
   ]
  },
  {
   "cell_type": "markdown",
   "metadata": {},
   "source": [
    " $$\\Delta Q^{x, y}_{i} = \\pm\\beta^{x, y}\\dfrac{b^{(2)}}{4\\pi B_0\\rho}J_0\\left(\\frac{\\omega}{\\beta c}\\sqrt{2J_z\\beta_z}\\right)=\\pm\\beta^{x, y}\\dfrac{b^{(2)}}{4\\pi B_0\\rho}J_0\\left(\\frac{\\omega}{\\beta c}\\tilde{\\sigma_z}\\right)$$"
   ]
  },
  {
   "cell_type": "markdown",
   "metadata": {},
   "source": [
    "One can expand the bessel function for small amplitude equivalent to M.Schenk assumtion above:\n",
    "$$J_z(x) =1 - x^2/4 + x^4/64 - x^6/2304 + O(x^7)$$\n",
    "$$\\Delta Q_i^{x, y} = \\pm\\beta^{x,y}\\dfrac{b^{(2)}}{4\\pi B_0\\rho}\\left(1-\\left(\\frac{\\omega}{\\beta c}\\right)^2 J_z\\beta_z/2+O(4)\\right)$$"
   ]
  },
  {
   "cell_type": "markdown",
   "metadata": {},
   "source": [
    "**Note:** I should normalise $J_z$ to $\\sigma_z$ or longitudinal emittace $\\epsilon_z$ for convinient use and analogy with the transverse case"
   ]
  },
  {
   "cell_type": "markdown",
   "metadata": {},
   "source": [
    "For the M.Schenk RFQ parameters:\n",
    "\n",
    "|$\\omega$ [MHz]| $\\beta_x$ [m]| $\\beta_y$ [m]| $B_0\\rho$|\n",
    "|---|---|---|---|\n",
    "| 800|200|200|2.1e4|"
   ]
  },
  {
   "cell_type": "markdown",
   "metadata": {},
   "source": [
    "## Pulsed electron lens (transversely homogeneous)"
   ]
  },
  {
   "cell_type": "markdown",
   "metadata": {},
   "source": [
    "We will restrict this derivation to the round beam case: \n",
    "We assume transversely homogeneous distribution and longitudinally a gaussian one:\n",
    "$$\\psi(z) = N \\exp\\left(-\\frac{z_i^2}{2\\sigma_z^2}\\right)$$"
   ]
  },
  {
   "cell_type": "markdown",
   "metadata": {},
   "source": [
    "$E_x/Q = \\dfrac{x}{4\\pi\\epsilon_0 \\sigma_x(\\sigma_x+\\sigma_y))}$ $E_y/Q = \\dfrac{y}{4\\pi\\epsilon_0 \\sigma_y(\\sigma_x+\\sigma_y))}$ "
   ]
  },
  {
   "cell_type": "markdown",
   "metadata": {},
   "source": [
    "$$\\Delta p_x = \\dfrac{Qx}{4\\pi\\epsilon_0 \\sigma_x(\\sigma_x+\\sigma_y)}$$"
   ]
  },
  {
   "cell_type": "markdown",
   "metadata": {},
   "source": [
    "$$\\Delta Q_i^{x, y} = \\frac{\\beta^{x, y}}{4\\pi}\\dfrac{\\lambda(z)}{4\\pi\\epsilon_0\\sigma_{x, y}(\\sigma_x+\\sigma_y)}$$\n",
    "$$\\Delta Q_i^{x, y} = \\Delta Q^{x, y}_{max}\\exp\\left( - \\frac{z_i^2}{2\\sigma_z^2} \\right)$$\n",
    "Using the same approach of averaging over synchrotron period we obtain:\n",
    "$$\\Delta Q_i^{x, y} = \\Delta Q^{x, y}_{max}\\int_0^{2\\pi}\\exp\\left( - \\frac{2J_z^i\\beta_z\\sin^2(\\phi_z)}{2\\sigma_z^2} \\right)d\\left(\\frac{\\phi_z}{2\\pi}\\right)$$"
   ]
  },
  {
   "cell_type": "markdown",
   "metadata": {},
   "source": [
    "$$\\Delta Q_i^{x, y} = \\Delta Q^{x, y}_{max}\\exp\\left(\\frac{-J_z\\beta_z}{2\\sigma_z^2}\\right)I_0\\left(\\frac{J_z\\beta_z}{2\\sigma_z^2}\\right)$$"
   ]
  },
  {
   "cell_type": "markdown",
   "metadata": {},
   "source": [
    "Using $2J_z\\beta_z = \\tilde{\\sigma_z}^2$\n",
    "$$\\Delta Q_i^{x, y} = \\Delta Q^{x, y}_{max}\\exp\\left(-\\left(\\frac{\\tilde{\\sigma_z}}{2\\sigma_z}\\right)^2\\right)I_0\\left(\\left(\\frac{\\tilde{\\sigma_z}}{2\\sigma_z}\\right)^2\\right)$$"
   ]
  },
  {
   "cell_type": "markdown",
   "metadata": {},
   "source": [
    "Taylor expansion for pulsed lens: $\\exp(-x)I_0(x) = 1 - x + (3 x^2)/4 - (5 x^3)/12 + (35 x^4)/192 - (21 x^5)/320 + O(x^6)$"
   ]
  },
  {
   "cell_type": "markdown",
   "metadata": {},
   "source": [
    "In first order this is the same dependency as for RFQ but the significance of higher order terms is determined by $\\sigma_z$ of electron lens instead of characteristic RFQ parameter $\\omega/\\beta c$"
   ]
  },
  {
   "cell_type": "code",
   "execution_count": null,
   "metadata": {},
   "outputs": [],
   "source": []
  }
 ],
 "metadata": {
  "kernelspec": {
   "display_name": "Python 3",
   "language": "python",
   "name": "python3"
  },
  "language_info": {
   "codemirror_mode": {
    "name": "ipython",
    "version": 3
   },
   "file_extension": ".py",
   "mimetype": "text/x-python",
   "name": "python",
   "nbconvert_exporter": "python",
   "pygments_lexer": "ipython3",
   "version": "3.7.4"
  }
 },
 "nbformat": 4,
 "nbformat_minor": 2
}
